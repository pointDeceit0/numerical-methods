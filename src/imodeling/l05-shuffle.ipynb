{
 "cells": [
  {
   "cell_type": "code",
   "execution_count": 2,
   "metadata": {},
   "outputs": [],
   "source": [
    "import random\n",
    "import matplotlib.pyplot as plt\n",
    "import numpy as np\n",
    "import math"
   ]
  },
  {
   "cell_type": "markdown",
   "metadata": {},
   "source": [
    "# Problem 1\n",
    "\n",
    "__Problem:__\n",
    "  \n",
    "  The worker goes from home to work and back. At home he has $x$ umbrellas, at work $y$ umbrellas.\n",
    "  Count avarage time untill he get wet. Show it for different $p$ - the probability of rain."
   ]
  },
  {
   "cell_type": "code",
   "execution_count": 11,
   "metadata": {},
   "outputs": [
    {
     "data": {
      "image/png": "[encoded data removed]",
      "text/plain": [
       "<Figure size 640x480 with 1 Axes>"
      ]
     },
     "metadata": {},
     "output_type": "display_data"
    },
    {
     "name": "stdout",
     "output_type": "stream",
     "text": [
      "0.297\n"
     ]
    }
   ],
   "source": [
    "ts = []\n",
    "x0, y0 = 2, 2\n",
    "h = 1000\n",
    "\n",
    "for p in range(1, h):\n",
    "    p = p / h\n",
    "    t = 0\n",
    "    for _ in range(50):\n",
    "        x, y = x0, y0\n",
    "        while x > 0 or y > 0:\n",
    "            if random.random() > p:\n",
    "                if x == 0:\n",
    "                    break\n",
    "                x -= 1\n",
    "                y += 1\n",
    "            t += 1\n",
    "\n",
    "            if random.random() > p:\n",
    "                if y == 0:\n",
    "                    break\n",
    "                y -= 1\n",
    "                x += 1\n",
    "            t += 1\n",
    "        \n",
    "    ts.append(t / 50)\n",
    "\n",
    "\n",
    "fig = plt.figure()\n",
    "ax = fig.add_subplot()\n",
    "ax.plot([p / 1000 for p in range(1, 1000)], ts, lw=1, color=\"orange\")\n",
    "ax.set_xlabel(\"Probability\")\n",
    "ax.set_ylabel(\"AVG time, ru\")\n",
    "ax.set_title(f\"x={x0}, y={y0}\")\n",
    "ax.set_xticks(np.arange(0.1, 1.1, 0.1))\n",
    "ax.grid(\"both\")\n",
    "plt.show()\n",
    "\n",
    "print([p / 1000 for p in range(1, 1000)][ts.index(min(ts))])\n",
    "\n"
   ]
  },
  {
   "cell_type": "markdown",
   "metadata": {},
   "source": [
    "# Problem 2\n",
    "\n",
    "__Problem:__\n",
    "\n",
    "How to simmulate huffle-shuffle and check it on randomness?\n",
    "\n",
    "> Theoretic results shows that it requires 7 huffle-shuffles to do a deck random."
   ]
  },
  {
   "cell_type": "markdown",
   "metadata": {},
   "source": [
    "__One huffle-shuffle:__\n"
   ]
  },
  {
   "cell_type": "code",
   "execution_count": 201,
   "metadata": {},
   "outputs": [
    {
     "name": "stdout",
     "output_type": "stream",
     "text": [
      "[28, 29, 1, 30, 2, 31, 32, 33, 3, 4, 5, 34, 6, 7, 8, 35, 9, 10, 11, 36, 12, 37, 13, 38, 14, 39, 15, 40, 16, 41, 42, 43, 17, 44, 18, 45, 46, 47, 19, 20, 21, 22, 23, 48, 24, 49, 25, 50, 26, 51, 27, 52]\n",
      "52\n"
     ]
    }
   ],
   "source": [
    "n = 52\n",
    "a = [i for i in range(1, n + 1)]\n",
    "c = 0\n",
    "\n",
    "for i in range(n):\n",
    "    if random.random() > 0.5:\n",
    "        c += 1\n",
    "\n",
    "p = 0.1\n",
    "l, r = 0, c\n",
    "deck = []\n",
    "while l < c and r < n:\n",
    "    if random.random() > p:\n",
    "        deck.append(a[l])\n",
    "        l += 1\n",
    "    else:\n",
    "        deck.append(a[r])\n",
    "        r += 1\n",
    "        \n",
    "    if not(l < c and r < n):\n",
    "        break\n",
    "    if random.random() > p:\n",
    "        deck.append(a[r])\n",
    "        r += 1\n",
    "    else:\n",
    "        deck.append(a[l])\n",
    "        l += 1\n",
    "if l < c:\n",
    "    deck.extend(a[l:])\n",
    "if r < n:\n",
    "    deck.extend(a[r:])\n",
    "\n",
    "print(deck)\n",
    "print(len(deck))"
   ]
  },
  {
   "cell_type": "markdown",
   "metadata": {},
   "source": [
    "__Theoretical number of shuffles to do a random deck:__"
   ]
  },
  {
   "cell_type": "code",
   "execution_count": 246,
   "metadata": {},
   "outputs": [
    {
     "name": "stdout",
     "output_type": "stream",
     "text": [
      "[13, 21, 30, 34, 37, 8, 45, 16, 2, 3, 10, 50, 17, 7, 22, 40, 11, 20, 28, 25, 27, 29, 43, 31, 32, 9, 52, 39, 51, 6, 18, 47, 33, 24, 15, 35, 1, 36, 19, 46, 12, 38, 23, 42, 48, 4, 5, 26, 14, 41, 49, 44]\n",
      "52\n"
     ]
    }
   ],
   "source": [
    "n = 52\n",
    "shuffle_num = 7\n",
    "\n",
    "ans = [i for i in range(1, n + 1)]\n",
    "for _ in range(shuffle_num):\n",
    "    c = 0\n",
    "\n",
    "    for i in range(n):\n",
    "        if random.random() > 0.5:\n",
    "            c += 1\n",
    "\n",
    "    p = 0.1\n",
    "    l, r = 0, c\n",
    "    deck = []\n",
    "    while l < c and r < n:\n",
    "        if random.random() > p:\n",
    "            deck.append(ans[l])\n",
    "            l += 1\n",
    "        else:\n",
    "            deck.append(ans[r])\n",
    "            r += 1\n",
    "        if not(l < c and r < n):\n",
    "            break\n",
    "        if random.random() > p:\n",
    "            deck.append(ans[r])\n",
    "            r += 1\n",
    "        else:\n",
    "            deck.append(ans[l])\n",
    "            l += 1\n",
    "    if l < c:\n",
    "        deck.extend(ans[l:c])\n",
    "    if r < n:\n",
    "        deck.extend(ans[r:])\n",
    "    ans = deck.copy()\n",
    "\n",
    "print(ans)\n",
    "print(len(ans))"
   ]
  },
  {
   "cell_type": "markdown",
   "metadata": {},
   "source": [
    "It need to be checked on randomness, there are a lot of ways to do that"
   ]
  },
  {
   "cell_type": "code",
   "execution_count": 12,
   "metadata": {},
   "outputs": [],
   "source": [
    "# shuffle criterion, Kendall's metric - not allowed theoretical result\n",
    "# theoretical - 7 shuffles\n",
    "# Kendall's statistic - 3 shuffles\n",
    "# 95 cl gives too big range of values \n",
    "# 95% cl"
   ]
  },
  {
   "cell_type": "markdown",
   "metadata": {},
   "source": [
    "# Problem 3\n",
    "\n",
    "__Problem:__\n",
    "\n",
    "There is start capital M - it is will find out later that no matter which one. Tossing a coin. \n",
    "\n",
    "If head, then M + 1, otherwise M - 1.\n",
    "\n",
    "0.5 chance: 0.495 chance of heads\n",
    "\n",
    "0.5 chance: if  $M \\; mod \\; 3 = 0$, then chance of heads is 0.075\n",
    "            else chance of heads is 0.745\n",
    "\n",
    "Show the trend of the M depend on time.\n",
    "\n",
    "\n"
   ]
  },
  {
   "cell_type": "code",
   "execution_count": 16,
   "metadata": {},
   "outputs": [
    {
     "data": {
      "image/png": "[encoded data removed]",
      "text/plain": [
       "<Figure size 640x480 with 1 Axes>"
      ]
     },
     "metadata": {},
     "output_type": "display_data"
    }
   ],
   "source": [
    "M = 0\n",
    "i = 0\n",
    "n = 100000\n",
    "\n",
    "res = [M]\n",
    "for _ in range(n):\n",
    "    if random.random() > 0.5:\n",
    "        if random.random() < 0.495:\n",
    "            M += 1\n",
    "        else:\n",
    "            M -= 1\n",
    "    else:\n",
    "        if M % 3 == 0:\n",
    "            if random.random() < 0.095:\n",
    "                M += 1\n",
    "            else:\n",
    "                M -= 1\n",
    "        else:\n",
    "            if random.random() < 0.745:\n",
    "                M += 1\n",
    "            else:\n",
    "                M -= 1\n",
    "    res.append(M)\n",
    "\n",
    "plt.plot([i for i in range(len(res))], res)\n",
    "plt.show()"
   ]
  },
  {
   "cell_type": "markdown",
   "metadata": {},
   "source": [
    "> Results ain't so obvious as it may seem initially."
   ]
  }
 ],
 "metadata": {
  "kernelspec": {
   "display_name": ".venv",
   "language": "python",
   "name": "python3"
  },
  "language_info": {
   "codemirror_mode": {
    "name": "ipython",
    "version": 3
   },
   "file_extension": ".py",
   "mimetype": "text/x-python",
   "name": "python",
   "nbconvert_exporter": "python",
   "pygments_lexer": "ipython3",
   "version": "3.12.3"
  }
 },
 "nbformat": 4,
 "nbformat_minor": 2
}
