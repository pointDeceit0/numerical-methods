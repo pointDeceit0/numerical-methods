{
 "cells": [
  {
   "cell_type": "code",
   "execution_count": 1,
   "metadata": {},
   "outputs": [],
   "source": [
    "import matplotlib.pyplot as plt\n",
    "import numpy as np  \n",
    "import math\n",
    "from lab01 import interpolation_lagrange\n",
    "from helper import init_args_1, init_args_2, init_values_1, init_values_2, x0, f, wn"
   ]
  },
  {
   "cell_type": "markdown",
   "metadata": {},
   "source": [
    "# Finding derivative numerically by using\n",
    "\n",
    "$$f(x_n) = \\frac{f(x_{n+1}) - f(x_n)}{\\Delta x}$$"
   ]
  },
  {
   "cell_type": "code",
   "execution_count": 2,
   "metadata": {},
   "outputs": [],
   "source": [
    "def derivative(x0: float, h: float, order: int, f=f) -> float:\n",
    "    if order == 1:\n",
    "        return (f(x0 + h) - f(x0)) / h\n",
    "    return (derivative(x0 + h, h, order - 1) - derivative(x0, h, order - 1)) / h"
   ]
  },
  {
   "cell_type": "code",
   "execution_count": 3,
   "metadata": {},
   "outputs": [],
   "source": [
    "def task_1(init_args: list[float], init_values: list[float], x0: float) -> None:\n",
    "    # calculating value in x0 with Lagrange polinome\n",
    "    h = 0.001 # step \n",
    "    x = np.arange(min(init_args), max(init_args), h) # [a, b]\n",
    "    \n",
    "    y0 = interpolation_lagrange(init_args, init_values, [x0])[0] # intrepolation value of x0\n",
    "\n",
    "    order = len(init_args)\n",
    "    \n",
    "    # calculating max(abs(fprime n (x))) <= M, x from [a, b]\n",
    "    M = max([derivative(x0, h, order) for x0 in x]) \n",
    "\n",
    "    print(f'Оценка погрешности:\\n\\t{abs(f(x0) - y0)} <= {M * wn(init_args, x0) / math.factorial(order)}')"
   ]
  },
  {
   "cell_type": "code",
   "execution_count": 4,
   "metadata": {},
   "outputs": [
    {
     "name": "stdout",
     "output_type": "stream",
     "text": [
      "Оценка погрешности:\n",
      "\t0.00011154315104744406 <= 0.0012068494352016996\n",
      "Оценка погрешности:\n",
      "\t7.377452117429684e-05 <= 0.0006034247176008498\n"
     ]
    }
   ],
   "source": [
    "task_1(init_args_1, init_values_1, x0)\n",
    "task_1(init_args_2, init_values_2, x0)"
   ]
  },
  {
   "cell_type": "markdown",
   "metadata": {},
   "source": [
    "# Divide difference calculating\n",
    "\n",
    "$$f(x_j, ..., x_{j+k}) = \\frac{ f(x_{j+1}, ..., x_{j+k}) - f(x_j, ..., x_{j+k-1}) }{x_{j+k} - x_0} $$"
   ]
  },
  {
   "cell_type": "code",
   "execution_count": 5,
   "metadata": {},
   "outputs": [],
   "source": [
    "def divdif(args: list[float], values: list[float]) -> float:\n",
    "    if len(args) == 2: # Inition condition\n",
    "        return (values[1] - values[0]) / (args[1] - args[0])\n",
    "    return (divdif(args[1:], values[1:]) - divdif(args[:-1], values[:-1])) / (args[-1] - args[0])"
   ]
  },
  {
   "cell_type": "code",
   "execution_count": 6,
   "metadata": {},
   "outputs": [],
   "source": [
    "def task_2(init_args: list[float], init_values, x0: float) -> None:\n",
    "    init_args = [x0] + init_args\n",
    "    init_values = [f(x0)] + init_values\n",
    "\n",
    "    dd = divdif(init_args, init_values)\n",
    "\n",
    "    y0 = interpolation_lagrange(init_args[1:], init_values[1:], [x0])[0]\n",
    "\n",
    "    print(f'Оценка погрешности с помощью разделенных разностей:\\n\\t{round(f(x0) - y0, 7)} = {round(dd * wn(init_args[1:], x0), 7)}')"
   ]
  },
  {
   "cell_type": "code",
   "execution_count": 7,
   "metadata": {},
   "outputs": [
    {
     "name": "stdout",
     "output_type": "stream",
     "text": [
      "Оценка погрешности с помощью разделенных разностей:\n",
      "\t-0.0001115 = -0.0001115\n",
      "Оценка погрешности с помощью разделенных разностей:\n",
      "\t-7.38e-05 = -7.38e-05\n"
     ]
    }
   ],
   "source": [
    "task_2(init_args_1, init_values_1, x0)\n",
    "task_2(init_args_2, init_values_2, x0)"
   ]
  },
  {
   "cell_type": "code",
   "execution_count": null,
   "metadata": {},
   "outputs": [],
   "source": []
  }
 ],
 "metadata": {
  "kernelspec": {
   "display_name": "Python 3 (ipykernel)",
   "language": "python",
   "name": "python3"
  },
  "language_info": {
   "codemirror_mode": {
    "name": "ipython",
    "version": 3
   },
   "file_extension": ".py",
   "mimetype": "text/x-python",
   "name": "python",
   "nbconvert_exporter": "python",
   "pygments_lexer": "ipython3",
   "version": "3.12.1"
  }
 },
 "nbformat": 4,
 "nbformat_minor": 4
}
